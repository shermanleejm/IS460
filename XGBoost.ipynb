{
 "cells": [
  {
   "cell_type": "code",
   "execution_count": 16,
   "metadata": {},
   "outputs": [],
   "source": [
    "import pandas as pd\n",
    "from sklearn.model_selection import train_test_split, GridSearchCV\n",
    "import re\n",
    "from keras.preprocessing.text import Tokenizer\n",
    "from keras.preprocessing.sequence import pad_sequences\n",
    "import matplotlib.pyplot as plt\n",
    "import xgboost as xgb\n",
    "from xgboost import XGBClassifier\n",
    "from sklearn.linear_model import LogisticRegression\n",
    "from sklearn.feature_extraction.text import TfidfTransformer, CountVectorizer\n",
    "from sklearn.pipeline import Pipeline\n",
    "from sklearn.feature_extraction.text import TfidfVectorizer, CountVectorizer\n",
    "from sklearn.metrics import roc_auc_score, mean_squared_error, accuracy_score, mean_absolute_error\n",
    "from bayes_opt import BayesianOptimization\n",
    "from nltk.corpus import stopwords\n",
    "import spacy\n",
    "from sklearn.decomposition import TruncatedSVD\n",
    "import pickle\n",
    "import numpy as np"
   ]
  },
  {
   "cell_type": "code",
   "execution_count": 3,
   "metadata": {},
   "outputs": [],
   "source": [
    "sw = set(stopwords.words(\"english\"))\n",
    "spacy_nlp = spacy.load('en_core_web_sm', disable=['parser', 'ner'])"
   ]
  },
  {
   "cell_type": "code",
   "execution_count": 4,
   "metadata": {},
   "outputs": [],
   "source": [
    "toxic_labels = [\"toxic\", \"severe_toxic\", \"obscene\", \"threat\", \"insult\", \"identity_hate\"]\n",
    "\n",
    "train = pd.read_csv(\"train.csv\")\n",
    "evaluation = pd.read_csv(\"test.csv\")\n",
    "evaluation_labels = pd.read_csv(\"test_labels.csv\")\n",
    "\n",
    "model = XGBClassifier(random_state=69, seed=2, colsample_bytree=0.6, subsample=0.7)\n",
    "\n",
    "param_grid = {\n",
    "    \"clf__n_estimators\": [50, 100, 300],\n",
    "    \"clf__colsample_bytree\": [0.6, 0.8, 1],\n",
    "    \"clf__subsample\": [0.5, 0.6, 0.7, 0.8, 0.9, 1],\n",
    "}\n"
   ]
  },
  {
   "cell_type": "code",
   "execution_count": 5,
   "metadata": {},
   "outputs": [
    {
     "data": {
      "text/plain": [
       "'\\nCleaned and ran it once, stored in \"clean.csv\" \\nTakes about 15 min on my com\\n'"
      ]
     },
     "execution_count": 5,
     "metadata": {},
     "output_type": "execute_result"
    }
   ],
   "source": [
    "\"\"\"\n",
    "Cleaned and ran it once, stored in \"clean.csv\" \n",
    "Takes about 15 min on my com\n",
    "\"\"\"\n",
    "\n",
    "## clean, stem and generate word set\n",
    "# def clean(text):\n",
    "#     text = text.lower()\n",
    "#     ## remove \\n \\t and non-alphanumeric\n",
    "#     text = re.sub(\"(\\\\t|\\\\n)\", \" \", text)\n",
    "#     text = re.sub(\"[^a-zA-Z]\", \" \", text)\n",
    "#     ## remove empty tokens\n",
    "#     text = \" \".join([x.strip() for x in text.split(\" \") if len(x.strip()) > 0])\n",
    "#     ## lemmatise\n",
    "#     doc = spacy_nlp(text)\n",
    "#     text = \" \".join([x.lemma_ for x in doc if not x.is_stop])\n",
    "#     return text.strip()\n",
    "\n",
    "\n",
    "# train[\"comment_text\"] = train[\"comment_text\"].apply(lambda x: clean(x))\n",
    "\n",
    "# with open(\"clean.csv\", \"w+\") as f:\n",
    "#     train.to_csv(f)\n"
   ]
  },
  {
   "cell_type": "code",
   "execution_count": 6,
   "metadata": {},
   "outputs": [],
   "source": [
    "clean = pd.read_csv(\"clean.csv\")\n",
    "clean.dropna(inplace=True)\n",
    "clean[\"comment_text\"] = clean[\"comment_text\"].str.replace(\",\", \"\")\n",
    "clean = clean.iloc[:1000]"
   ]
  },
  {
   "cell_type": "code",
   "execution_count": 24,
   "metadata": {},
   "outputs": [
    {
     "name": "stderr",
     "output_type": "stream",
     "text": [
      "/usr/local/lib/python3.9/site-packages/sklearn/svm/_base.py:976: ConvergenceWarning: Liblinear failed to converge, increase the number of iterations.\n",
      "  warnings.warn(\"Liblinear failed to converge, increase \"\n"
     ]
    },
    {
     "name": "stdout",
     "output_type": "stream",
     "text": [
      "0.9608076754248448\n"
     ]
    },
    {
     "name": "stderr",
     "output_type": "stream",
     "text": [
      "/usr/local/lib/python3.9/site-packages/sklearn/svm/_base.py:976: ConvergenceWarning: Liblinear failed to converge, increase the number of iterations.\n",
      "  warnings.warn(\"Liblinear failed to converge, increase \"\n"
     ]
    },
    {
     "name": "stdout",
     "output_type": "stream",
     "text": [
      "0.9898413494701198\n",
      "0.9798394682385402\n"
     ]
    },
    {
     "name": "stderr",
     "output_type": "stream",
     "text": [
      "/usr/local/lib/python3.9/site-packages/sklearn/svm/_base.py:976: ConvergenceWarning: Liblinear failed to converge, increase the number of iterations.\n",
      "  warnings.warn(\"Liblinear failed to converge, increase \"\n"
     ]
    },
    {
     "name": "stdout",
     "output_type": "stream",
     "text": [
      "0.9966137831567066\n",
      "0.9708722643757447\n"
     ]
    },
    {
     "name": "stderr",
     "output_type": "stream",
     "text": [
      "/usr/local/lib/python3.9/site-packages/sklearn/svm/_base.py:976: ConvergenceWarning: Liblinear failed to converge, increase the number of iterations.\n",
      "  warnings.warn(\"Liblinear failed to converge, increase \"\n"
     ]
    },
    {
     "name": "stdout",
     "output_type": "stream",
     "text": [
      "0.9915344578917665\n"
     ]
    }
   ],
   "source": [
    "## without glove and basic tfidf\n",
    "pipe = Pipeline(\n",
    "    [\n",
    "        (\"vect\", CountVectorizer()),\n",
    "        (\"tfidf\", TfidfTransformer()),\n",
    "        (\"classifier\", LogisticRegression()),\n",
    "    ]\n",
    ")\n",
    "\n",
    "param_grid = [\n",
    "    {\n",
    "        \"classifier\": [LogisticRegression()],\n",
    "        \"classifier__penalty\": [\"l1\", \"l2\"],\n",
    "        \"classifier__C\": np.logspace(-4, 4, 20),\n",
    "        \"classifier__solver\": [\"liblinear\"],\n",
    "        \"classifier__max_iter\": [500, 1000],\n",
    "    },\n",
    "]\n",
    "\n",
    "log_reg_models = {}\n",
    "for tox in toxic_labels:\n",
    "    X_train, X_test, y_train, y_test = train_test_split(\n",
    "        clean[\"comment_text\"], clean[tox], test_size=0.20, random_state=69\n",
    "    )\n",
    "    model = GridSearchCV(pipe, param_grid=param_grid, cv=3, verbose=False, n_jobs=1)\n",
    "    model.fit(X_train, y_train)\n",
    "    print(model.score(X_test, y_test))\n",
    "    log_reg_models[tox] = model.best_params_['classifier']"
   ]
  },
  {
   "cell_type": "code",
   "execution_count": 25,
   "metadata": {},
   "outputs": [
    {
     "data": {
      "text/plain": [
       "{'toxic': LogisticRegression(C=4.281332398719396, solver='liblinear'),\n",
       " 'severe_toxic': LogisticRegression(C=4.281332398719396, solver='liblinear'),\n",
       " 'obscene': LogisticRegression(C=4.281332398719396, solver='liblinear'),\n",
       " 'threat': LogisticRegression(C=4.281332398719396, solver='liblinear'),\n",
       " 'insult': LogisticRegression(C=4.281332398719396, solver='liblinear'),\n",
       " 'identity_hate': LogisticRegression(C=4.281332398719396, solver='liblinear')}"
      ]
     },
     "execution_count": 25,
     "metadata": {},
     "output_type": "execute_result"
    }
   ],
   "source": [
    "log_reg_models"
   ]
  },
  {
   "cell_type": "code",
   "execution_count": 26,
   "metadata": {},
   "outputs": [
    {
     "name": "stdout",
     "output_type": "stream",
     "text": [
      "toxic: [0]\n",
      "severe_toxic: [0]\n",
      "obscene: [0]\n",
      "threat: [0]\n",
      "insult: [0]\n",
      "identity_hate: [0]\n"
     ]
    }
   ],
   "source": [
    "unseen = pd.DataFrame.from_dict(\n",
    "    {\"comment_text\": [\"you are a piece of shit go kill yourself\"]}\n",
    ")\n",
    "\n",
    "for tox in toxic_labels:\n",
    "    X_train, X_test, y_train, y_test = train_test_split(\n",
    "        clean[\"comment_text\"], clean[tox], test_size=0.20, random_state=69\n",
    "    )\n",
    "    pipe = Pipeline(\n",
    "        [\n",
    "            (\"vect\", CountVectorizer()),\n",
    "            (\"tfidf\", TfidfTransformer()),\n",
    "            (\"classifier\", log_reg_models[tox]),\n",
    "        ]\n",
    "    )\n",
    "    pipe.fit(X_train, y_train)\n",
    "    print(f\"{tox}: {pipe.predict(unseen)}\")\n"
   ]
  },
  {
   "cell_type": "code",
   "execution_count": 9,
   "metadata": {},
   "outputs": [
    {
     "name": "stdout",
     "output_type": "stream",
     "text": [
      "[[ 445  630  643 ...    0    0    0]\n",
      " [4026  219    6 ...    0    0    0]\n",
      " [  61 1895   16 ...    0    0    0]\n",
      " ...\n",
      " [1903  820 3799 ...    0    0    0]\n",
      " [1734  719  719 ...    0    0    0]\n",
      " [2316  496  165 ...    0    0    0]]\n"
     ]
    }
   ],
   "source": [
    "X_train, X_test, y_train, y_test = train_test_split(\n",
    "    clean[\"comment_text\"], clean[toxic_labels], test_size=0.20, random_state=69\n",
    ")\n",
    "\n",
    "## create tokeniser\n",
    "tokenizer = Tokenizer(num_words=10000)\n",
    "tokenizer.fit_on_texts(X_train)\n",
    "\n",
    "## Convert sentences to vectors\n",
    "X_train_vectors = tokenizer.texts_to_sequences(X_train)\n",
    "X_test_vectors = tokenizer.texts_to_sequences(X_test)\n",
    "\n",
    "max_length = 0\n",
    "for row in X_train_vectors + X_test_vectors:\n",
    "    max_length = max(max_length, len(row))\n",
    "\n",
    "## added extra 10 to max_length just in case future vecotrs are longer\n",
    "max_length += 10\n",
    "\n",
    "## add extra 0 to make sure all vectors are same length\n",
    "X_train_vectors = pad_sequences(X_train_vectors, padding=\"post\", maxlen=max_length)\n",
    "X_test_vectors = pad_sequences(X_test_vectors, padding=\"post\", maxlen=max_length)\n",
    "print(X_train_vectors[:10])\n",
    "# for tox in toxic_labels:\n",
    "#     bst = XGBClassifier()\n",
    "#     bst.fit(X_train_vectors, y_train[tox])\n",
    "#     y_pred = bst.predict(X_test)\n",
    "#     print(f\"{accuracy_score(y_test, y_pred)}\")"
   ]
  },
  {
   "cell_type": "code",
   "execution_count": null,
   "metadata": {},
   "outputs": [],
   "source": []
  }
 ],
 "metadata": {
  "interpreter": {
   "hash": "aee8b7b246df8f9039afb4144a1f6fd8d2ca17a180786b69acc140d282b71a49"
  },
  "kernelspec": {
   "display_name": "Python 3.9.7 64-bit",
   "name": "python3"
  },
  "language_info": {
   "codemirror_mode": {
    "name": "ipython",
    "version": 3
   },
   "file_extension": ".py",
   "mimetype": "text/x-python",
   "name": "python",
   "nbconvert_exporter": "python",
   "pygments_lexer": "ipython3",
   "version": "3.9.7"
  },
  "orig_nbformat": 4
 },
 "nbformat": 4,
 "nbformat_minor": 2
}
