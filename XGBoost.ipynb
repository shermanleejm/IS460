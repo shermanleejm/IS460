{
 "cells": [
  {
   "cell_type": "code",
   "execution_count": 75,
   "metadata": {},
   "outputs": [],
   "source": [
    "import pandas as pd\n",
    "from sklearn.model_selection import train_test_split, GridSearchCV\n",
    "import re\n",
    "from keras.preprocessing.text import Tokenizer\n",
    "from keras.preprocessing.sequence import pad_sequences\n",
    "import matplotlib.pyplot as plt\n",
    "import xgboost as xgb\n",
    "from xgboost import XGBClassifier\n",
    "from sklearn.linear_model import LogisticRegression\n",
    "from sklearn.feature_extraction.text import TfidfTransformer, CountVectorizer\n",
    "from sklearn.pipeline import Pipeline\n",
    "from sklearn.feature_extraction.text import TfidfVectorizer, CountVectorizer\n",
    "from sklearn.metrics import roc_auc_score, mean_squared_error, accuracy_score, mean_absolute_error\n",
    "from bayes_opt import BayesianOptimization\n",
    "from nltk.corpus import stopwords\n",
    "from nltk.stem import PorterStemmer\n",
    "import spacy\n",
    "from sklearn.decomposition import TruncatedSVD"
   ]
  },
  {
   "cell_type": "code",
   "execution_count": 22,
   "metadata": {},
   "outputs": [],
   "source": [
    "sw = set(stopwords.words(\"english\"))\n",
    "spacy_nlp = spacy.load('en_core_web_sm', disable=['parser', 'ner'])"
   ]
  },
  {
   "cell_type": "code",
   "execution_count": 129,
   "metadata": {},
   "outputs": [
    {
     "name": "stdout",
     "output_type": "stream",
     "text": [
      "<class 'pandas.core.frame.DataFrame'>\n",
      "RangeIndex: 159571 entries, 0 to 159570\n",
      "Data columns (total 8 columns):\n",
      " #   Column         Non-Null Count   Dtype \n",
      "---  ------         --------------   ----- \n",
      " 0   id             159571 non-null  object\n",
      " 1   comment_text   159571 non-null  object\n",
      " 2   toxic          159571 non-null  int64 \n",
      " 3   severe_toxic   159571 non-null  int64 \n",
      " 4   obscene        159571 non-null  int64 \n",
      " 5   threat         159571 non-null  int64 \n",
      " 6   insult         159571 non-null  int64 \n",
      " 7   identity_hate  159571 non-null  int64 \n",
      "dtypes: int64(6), object(2)\n",
      "memory usage: 9.7+ MB\n",
      "None\n"
     ]
    }
   ],
   "source": [
    "toxic_labels = [\"toxic\", \"severe_toxic\", \"obscene\", \"threat\", \"insult\", \"identity_hate\"]\n",
    "\n",
    "train = pd.read_csv(\"train.csv\")\n",
    "evaluation = pd.read_csv(\"test.csv\")\n",
    "evaluation_labels = pd.read_csv(\"test_labels.csv\")\n",
    "\n",
    "model = XGBClassifier(random_state=69, seed=2, colsample_bytree=0.6, subsample=0.7)\n",
    "\n",
    "param_grid = {\n",
    "    \"clf__n_estimators\": [50, 100, 300],\n",
    "    \"clf__colsample_bytree\": [0.6, 0.8, 1],\n",
    "    \"clf__subsample\": [0.5, 0.6, 0.7, 0.8, 0.9, 1],\n",
    "}\n"
   ]
  },
  {
   "cell_type": "code",
   "execution_count": 74,
   "metadata": {},
   "outputs": [],
   "source": [
    "\"\"\"\n",
    "Cleaned and ran it once, stored in \"clean.csv\" \n",
    "Takes about 15 min on my com\n",
    "\"\"\"\n",
    "\n",
    "## clean, stem and generate word set\n",
    "# def clean(text):\n",
    "#     text = text.lower()\n",
    "#     ## remove \\n \\t and non-alphanumeric\n",
    "#     text = re.sub(\"(\\\\t|\\\\n)\", \" \", text)\n",
    "#     text = re.sub(\"[^a-zA-Z]\", \" \", text)\n",
    "#     ## remove empty tokens\n",
    "#     text = \" \".join([x.strip() for x in text.split(\" \") if len(x.strip()) > 0])\n",
    "#     ## lemmatise\n",
    "#     doc = spacy_nlp(text)\n",
    "#     text = \" \".join([x.lemma_ for x in doc if not x.is_stop])\n",
    "#     return text.strip()\n",
    "\n",
    "\n",
    "# train[\"comment_text\"] = train[\"comment_text\"].apply(lambda x: clean(x))\n",
    "\n",
    "# with open(\"clean.csv\", \"w+\") as f:\n",
    "#     train.to_csv(f)\n"
   ]
  },
  {
   "cell_type": "code",
   "execution_count": 130,
   "metadata": {},
   "outputs": [],
   "source": [
    "clean = pd.read_csv(\"clean.csv\")\n",
    "clean.dropna(inplace=True)\n",
    "clean[\"comment_text\"] = clean[\"comment_text\"].str.replace(\",\", \"\")"
   ]
  },
  {
   "cell_type": "code",
   "execution_count": 134,
   "metadata": {},
   "outputs": [
    {
     "name": "stdout",
     "output_type": "stream",
     "text": [
      "0.9564808427917476\n",
      "0.9904684266633222\n",
      "0.979525929641939\n",
      "0.9973976296482097\n",
      "0.9707782027967643\n",
      "0.9924750736815702\n"
     ]
    }
   ],
   "source": [
    "logreg = Pipeline(\n",
    "    [\n",
    "        (\"vect\", CountVectorizer()),\n",
    "        (\"tfidf\", TfidfTransformer()),\n",
    "        (\"clf\", LogisticRegression(solver='liblinear')),\n",
    "    ]\n",
    ")\n",
    "\n",
    "for tox in toxic_labels:\n",
    "    X_train, X_test, y_train, y_test = train_test_split(\n",
    "        clean[\"comment_text\"], clean[tox], test_size=0.20, random_state=42\n",
    "    )\n",
    "    logreg.fit(X_train, y_train)\n",
    "    y_pred = logreg.predict(X_test)\n",
    "    print(f\"{accuracy_score(y_test, y_pred)}\")\n"
   ]
  }
 ],
 "metadata": {
  "interpreter": {
   "hash": "aee8b7b246df8f9039afb4144a1f6fd8d2ca17a180786b69acc140d282b71a49"
  },
  "kernelspec": {
   "display_name": "Python 3.9.7 64-bit",
   "name": "python3"
  },
  "language_info": {
   "codemirror_mode": {
    "name": "ipython",
    "version": 3
   },
   "file_extension": ".py",
   "mimetype": "text/x-python",
   "name": "python",
   "nbconvert_exporter": "python",
   "pygments_lexer": "ipython3",
   "version": "3.9.7"
  },
  "orig_nbformat": 4
 },
 "nbformat": 4,
 "nbformat_minor": 2
}
