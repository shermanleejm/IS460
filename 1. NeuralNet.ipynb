{
 "cells": [
  {
   "cell_type": "code",
   "execution_count": 1,
   "metadata": {},
   "outputs": [
    {
     "name": "stdout",
     "output_type": "stream",
     "text": [
      "INFO:tensorflow:Enabling eager execution\n",
      "INFO:tensorflow:Enabling v2 tensorshape\n",
      "INFO:tensorflow:Enabling resource variables\n",
      "INFO:tensorflow:Enabling tensor equality\n",
      "INFO:tensorflow:Enabling control flow v2\n"
     ]
    }
   ],
   "source": [
    "import pandas as pd\n",
    "from sklearn.model_selection import train_test_split\n",
    "import re\n",
    "from keras.preprocessing.text import Tokenizer\n",
    "from keras.preprocessing.sequence import pad_sequences\n",
    "import matplotlib.pyplot as plt\n",
    "from numpy import asarray, zeros"
   ]
  },
  {
   "cell_type": "markdown",
   "metadata": {},
   "source": [
    "# helper functions"
   ]
  },
  {
   "cell_type": "code",
   "execution_count": 2,
   "metadata": {},
   "outputs": [],
   "source": [
    "def clean_text(text):\n",
    "    text = text.lower()\n",
    "    ## remove \\n \\t and non-alphanumeric\n",
    "    text = re.sub(\"(\\\\t|\\\\n)\", \" \", text)\n",
    "    text = re.sub(\"[^a-zA-Z0-9']\", \" \", text)\n",
    "    text = text.strip()\n",
    "    ## leave 1 space between each token\n",
    "    text = \" \".join([x for x in text.split(\" \") if len(x.strip()) > 0])\n",
    "    return text.strip()\n",
    "\n",
    "# print(clean_text('\"\"\"\"sherman...K...k,...don\\'t\"'))\n",
    "\n",
    "toxic_labels = [\"toxic\", \"severe_toxic\", \"obscene\", \"threat\", \"insult\", \"identity_hate\"]\n"
   ]
  },
  {
   "cell_type": "code",
   "execution_count": 3,
   "metadata": {},
   "outputs": [],
   "source": [
    "train = pd.read_csv(\"train_evenly_distributed.csv\")\n",
    "evaluation = pd.read_csv(\"test.csv\")\n",
    "evaluation_labels = pd.read_csv(\"test_labels.csv\")"
   ]
  },
  {
   "cell_type": "code",
   "execution_count": 4,
   "metadata": {},
   "outputs": [
    {
     "name": "stdout",
     "output_type": "stream",
     "text": [
      "toxic            15294\n",
      "severe_toxic      1595\n",
      "obscene           8449\n",
      "threat             478\n",
      "insult            7877\n",
      "identity_hate     1405\n",
      "dtype: int64\n"
     ]
    }
   ],
   "source": [
    "## sum of each category\n",
    "print(train[toxic_labels].sum())\n"
   ]
  },
  {
   "cell_type": "code",
   "execution_count": 5,
   "metadata": {},
   "outputs": [
    {
     "name": "stdout",
     "output_type": "stream",
     "text": [
      "6000\n"
     ]
    }
   ],
   "source": [
    "## non-toxic\n",
    "count = 0\n",
    "\n",
    "def is_toxic(row):\n",
    "    for label in toxic_labels:\n",
    "        if row[label] == 1:\n",
    "            return True\n",
    "    return False\n",
    "\n",
    "for i, row in train.iterrows():\n",
    "    if not is_toxic(row):\n",
    "        count += 1\n",
    "\n",
    "print(count)"
   ]
  },
  {
   "cell_type": "code",
   "execution_count": 6,
   "metadata": {},
   "outputs": [],
   "source": [
    "## create train test split\n",
    "X = train[\"comment_text\"].tolist()\n",
    "y = train[toxic_labels].values\n",
    "X_train, X_test, y_train, y_test = train_test_split(X, y, test_size=0.20, random_state=42)"
   ]
  },
  {
   "cell_type": "markdown",
   "metadata": {},
   "source": [
    "# basic naive bayes theorem"
   ]
  },
  {
   "cell_type": "code",
   "execution_count": 7,
   "metadata": {},
   "outputs": [
    {
     "name": "stdout",
     "output_type": "stream",
     "text": [
      "accuracy 0.48391451068616426\n"
     ]
    }
   ],
   "source": [
    "from sklearn.naive_bayes import MultinomialNB\n",
    "from sklearn.pipeline import Pipeline\n",
    "from sklearn.feature_extraction.text import TfidfTransformer\n",
    "from sklearn.feature_extraction.text import CountVectorizer\n",
    "from sklearn.metrics import accuracy_score\n",
    "\n",
    "nb = Pipeline(\n",
    "    [\n",
    "        (\"vect\", CountVectorizer()),\n",
    "        (\"tfidf\", TfidfTransformer()),\n",
    "        (\"clf\", MultinomialNB()),\n",
    "    ]\n",
    ")\n",
    "\n",
    "## need to make [0, 0, 0, 1, 0, 1] --> 000101 for the model to understand\n",
    "y_train_NB = []\n",
    "for row in y_train:\n",
    "    y_train_NB.append(\"\".join([str(_) for _ in row]))\n",
    "\n",
    "## same for test\n",
    "y_test_NB = []\n",
    "for row in y_test:\n",
    "    y_test_NB.append(\"\".join([str(_) for _ in row]))\n",
    "\n",
    "nb.fit(X_train, y_train_NB)\n",
    "\n",
    "y_pred_NB = nb.predict(X_test)\n",
    "\n",
    "print(\"accuracy %s\" % accuracy_score(y_pred_NB, y_test_NB))\n"
   ]
  },
  {
   "cell_type": "code",
   "execution_count": 8,
   "metadata": {},
   "outputs": [
    {
     "name": "stdout",
     "output_type": "stream",
     "text": [
      "The length of vocab is 43886\n",
      "17780\n",
      "4445\n"
     ]
    }
   ],
   "source": [
    "## create tokeniser\n",
    "tokenizer = Tokenizer(num_words=10000)\n",
    "tokenizer.fit_on_texts(X_train)\n",
    "\n",
    "## Convert sentences to vectors\n",
    "X_train_vectors = tokenizer.texts_to_sequences(X_train)\n",
    "X_test_vectors = tokenizer.texts_to_sequences(X_test)\n",
    "\n",
    "max_length = 0\n",
    "for row in X_train_vectors + X_test_vectors:\n",
    "    max_length = max(max_length, len(row))\n",
    "\n",
    "## added extra 10 to max_length just in case future vecotrs are longer\n",
    "max_length += 10\n",
    "\n",
    "## add extra 0 to make sure all vectors are same length\n",
    "X_train_vectors = pad_sequences(X_train_vectors, padding=\"post\", maxlen=max_length)\n",
    "X_test_vectors = pad_sequences(X_test_vectors, padding=\"post\", maxlen=max_length)\n",
    "\n",
    "vocab_length = len(tokenizer.word_index) + 1\n",
    "\n",
    "print(f\"The length of vocab is {vocab_length}\")\n",
    "\n",
    "print(len(X_train_vectors))\n",
    "print(len(X_test_vectors))"
   ]
  },
  {
   "cell_type": "code",
   "execution_count": 9,
   "metadata": {},
   "outputs": [],
   "source": [
    "## using the GloVe file to convert words to int representation for faster training\n",
    "## alternative is word2vec but word2vec uses local statistics but GloVe uses global statistics\n",
    "## https://nlp.stanford.edu/data/glove.6B.zip\n",
    "\n",
    "embeddings_dictionary = dict()\n",
    "\n",
    "with open('glove/glove.6B.100d.txt', encoding=\"utf8\") as glove_file:\n",
    "    for line in glove_file:\n",
    "        records = line.split()\n",
    "        word = records[0]\n",
    "        vector_dimensions = asarray(records[1:], dtype='float32')\n",
    "        embeddings_dictionary[word] = vector_dimensions\n",
    "\n",
    "## 100 is cuz we using the 100d version of glove\n",
    "embedding_matrix = zeros((vocab_length, 100))\n",
    "for word, index in tokenizer.word_index.items():\n",
    "    embedding_vector = embeddings_dictionary.get(word)\n",
    "    if embedding_vector is not None:\n",
    "        embedding_matrix[index] = embedding_vector"
   ]
  },
  {
   "cell_type": "markdown",
   "metadata": {},
   "source": [
    "# First model\n",
    "## Layers\n",
    "1. Input layer\n",
    "2. Embedding layer\n",
    "3. LSTM layer with 128 neurons \n",
    "4. Output layer with 6 neurons (for the 6 labels)"
   ]
  },
  {
   "cell_type": "code",
   "execution_count": 10,
   "metadata": {},
   "outputs": [],
   "source": [
    "from keras.layers import Input\n",
    "from keras.models import Model\n",
    "from keras.layers.embeddings import Embedding\n",
    "from keras.layers import Flatten, LSTM\n",
    "from keras.layers.core import Activation, Dropout, Dense"
   ]
  },
  {
   "cell_type": "code",
   "execution_count": 11,
   "metadata": {},
   "outputs": [],
   "source": [
    "inputs = Input(shape=(max_length,))\n",
    "embedding_layer = Embedding(\n",
    "    vocab_length, 100, weights=[embedding_matrix], trainable=False\n",
    ")(inputs)\n",
    "batch_size = 128\n",
    "lstm_layer = LSTM(batch_size)(embedding_layer)\n",
    "dense_layer = Dense(6, activation=\"sigmoid\")(lstm_layer)\n",
    "model = Model(inputs=inputs, outputs=dense_layer)\n",
    "\n",
    "model.compile(loss=\"binary_crossentropy\", optimizer=\"adam\", metrics=[\"acc\"])\n"
   ]
  },
  {
   "cell_type": "code",
   "execution_count": 12,
   "metadata": {},
   "outputs": [
    {
     "name": "stdout",
     "output_type": "stream",
     "text": [
      "Model: \"model\"\n",
      "_________________________________________________________________\n",
      "Layer (type)                 Output Shape              Param #   \n",
      "=================================================================\n",
      "input_1 (InputLayer)         [(None, 1410)]            0         \n",
      "_________________________________________________________________\n",
      "embedding (Embedding)        (None, 1410, 100)         4388600   \n",
      "_________________________________________________________________\n",
      "lstm (LSTM)                  (None, 128)               117248    \n",
      "_________________________________________________________________\n",
      "dense (Dense)                (None, 6)                 774       \n",
      "=================================================================\n",
      "Total params: 4,506,622\n",
      "Trainable params: 118,022\n",
      "Non-trainable params: 4,388,600\n",
      "_________________________________________________________________\n",
      "None\n"
     ]
    }
   ],
   "source": [
    "print(model.summary())"
   ]
  },
  {
   "cell_type": "code",
   "execution_count": 13,
   "metadata": {},
   "outputs": [
    {
     "name": "stdout",
     "output_type": "stream",
     "text": [
      "Epoch 1/2\n",
      "WARNING:tensorflow:AutoGraph could not transform <bound method Dense.call of <keras.layers.core.Dense object at 0x17b93cf40>> and will run it as-is.\n",
      "Please report this to the TensorFlow team. When filing the bug, set the verbosity to 10 (on Linux, `export AUTOGRAPH_VERBOSITY=10`) and attach the full output.\n",
      "Cause: invalid syntax (tmpag5qzusa.py, line 48)\n",
      "To silence this warning, decorate the function with @tf.autograph.experimental.do_not_convert\n",
      "WARNING: AutoGraph could not transform <bound method Dense.call of <keras.layers.core.Dense object at 0x17b93cf40>> and will run it as-is.\n",
      "Please report this to the TensorFlow team. When filing the bug, set the verbosity to 10 (on Linux, `export AUTOGRAPH_VERBOSITY=10`) and attach the full output.\n",
      "Cause: invalid syntax (tmpag5qzusa.py, line 48)\n",
      "To silence this warning, decorate the function with @tf.autograph.experimental.do_not_convert\n",
      "  1/112 [..............................] - ETA: 30:54 - loss: 0.6931 - acc: 0.9844"
     ]
    }
   ],
   "source": [
    "magic = model.fit(\n",
    "    X_train_vectors, y_train, batch_size=128, epochs=2, verbose=1, validation_split=0.2\n",
    ")\n",
    "model.save('lstm_model.h5')"
   ]
  },
  {
   "cell_type": "code",
   "execution_count": null,
   "metadata": {},
   "outputs": [
    {
     "name": "stdout",
     "output_type": "stream",
     "text": [
      "Epoch 1/5\n",
      "798/798 [==============================] - 1161s 1s/step - loss: 0.1848 - acc: 0.8958 - val_loss: 0.1426 - val_acc: 0.9943\n",
      "Epoch 2/5\n",
      "798/798 [==============================] - 1462s 2s/step - loss: 0.1409 - acc: 0.9945 - val_loss: 0.1431 - val_acc: 0.9943\n",
      "Epoch 3/5\n",
      "798/798 [==============================] - 1439s 2s/step - loss: 0.1410 - acc: 0.9943 - val_loss: 0.1427 - val_acc: 0.9943\n",
      "Epoch 4/5\n",
      "798/798 [==============================] - 1247s 2s/step - loss: 0.1406 - acc: 0.9939 - val_loss: 0.1424 - val_acc: 0.9943\n",
      "Epoch 5/5\n",
      "798/798 [==============================] - 1086s 1s/step - loss: 0.1438 - acc: 0.9943 - val_loss: 0.1432 - val_acc: 0.9943\n"
     ]
    }
   ],
   "source": [
    "magic = model.fit(\n",
    "    X_train_vectors, y_train, batch_size=128, epochs=2, verbose=1, validation_split=0.2\n",
    ")\n",
    "model.save('lstm_model.h5')"
   ]
  },
  {
   "cell_type": "markdown",
   "metadata": {},
   "source": []
  },
  {
   "cell_type": "code",
   "execution_count": null,
   "metadata": {},
   "outputs": [
    {
     "name": "stdout",
     "output_type": "stream",
     "text": [
      "998/998 [==============================] - 206s 206ms/step - loss: 0.1425 - acc: 0.9941\n",
      "Test Score: 0.1425277590751648\n",
      "Test Accuracy: 0.9941093325614929\n"
     ]
    }
   ],
   "source": [
    "score = model.evaluate(X_test_vectors, y_test, verbose=1)\n",
    "\n",
    "print(f\"Test Score: {score[0]}\")\n",
    "print(f\"Test Accuracy: {score[1]}\")"
   ]
  },
  {
   "cell_type": "code",
   "execution_count": null,
   "metadata": {},
   "outputs": [
    {
     "data": {
      "image/png": "[encoded data removed]",
      "text/plain": [
       "<Figure size 432x288 with 1 Axes>"
      ]
     },
     "metadata": {
      "needs_background": "light"
     },
     "output_type": "display_data"
    },
    {
     "data": {
      "image/png": "[encoded data removed]",
      "text/plain": [
       "<Figure size 432x288 with 1 Axes>"
      ]
     },
     "metadata": {
      "needs_background": "light"
     },
     "output_type": "display_data"
    }
   ],
   "source": [
    "## check for overfitting\n",
    "plt.plot(magic.history['acc'])\n",
    "plt.plot(magic.history['val_acc'])\n",
    "\n",
    "plt.title('model accuracy')\n",
    "plt.ylabel('accuracy')\n",
    "plt.xlabel('epoch')\n",
    "plt.legend(['train','test'], loc='upper left')\n",
    "plt.show()\n",
    "\n",
    "plt.plot(magic.history['loss'])\n",
    "plt.plot(magic.history['val_loss'])\n",
    "\n",
    "plt.title('model loss')\n",
    "plt.ylabel('loss')\n",
    "plt.xlabel('epoch')\n",
    "plt.legend(['train','test'], loc='upper left')\n",
    "plt.show()"
   ]
  },
  {
   "cell_type": "code",
   "execution_count": null,
   "metadata": {},
   "outputs": [],
   "source": [
    "from keras.models import load_model\n",
    "\n",
    "model = load_model('lstm_model.h5')\n"
   ]
  },
  {
   "cell_type": "code",
   "execution_count": null,
   "metadata": {},
   "outputs": [
    {
     "data": {
      "text/plain": [
       "[[0.08897737,\n",
       "  0.012645245,\n",
       "  0.049181044,\n",
       "  0.0016247332,\n",
       "  0.041928947,\n",
       "  0.006444037],\n",
       " [0.08897737,\n",
       "  0.012645185,\n",
       "  0.049181014,\n",
       "  0.0016247332,\n",
       "  0.041928947,\n",
       "  0.006444037]]"
      ]
     },
     "execution_count": 26,
     "metadata": {},
     "output_type": "execute_result"
    }
   ],
   "source": [
    "showcase = [\"Who gave you permission to speak you fucker!!! Go kill yourself\", \"What a lovely presentation, well done!\"]\n",
    "\n",
    "showcase_tokens = tokenizer.texts_to_sequences(showcase)\n",
    "showcase_vectors = pad_sequences(showcase_tokens, padding=\"post\", maxlen=max_length)\n",
    "\n",
    "y_hat = model.predict(showcase_vectors, verbose=0)\n",
    "\n",
    "y_hat_rounded = []\n",
    "for row in y_hat:\n",
    "    y_hat_rounded.append([x for x in row])\n",
    "y_hat_rounded"
   ]
  },
  {
   "cell_type": "code",
   "execution_count": null,
   "metadata": {},
   "outputs": [],
   "source": []
  }
 ],
 "metadata": {
  "interpreter": {
   "hash": "aee8b7b246df8f9039afb4144a1f6fd8d2ca17a180786b69acc140d282b71a49"
  },
  "kernelspec": {
   "display_name": "Python 3.9.7 64-bit",
   "name": "python3"
  },
  "language_info": {
   "codemirror_mode": {
    "name": "ipython",
    "version": 3
   },
   "file_extension": ".py",
   "mimetype": "text/x-python",
   "name": "python",
   "nbconvert_exporter": "python",
   "pygments_lexer": "ipython3",
   "version": "3.9.7"
  },
  "orig_nbformat": 4
 },
 "nbformat": 4,
 "nbformat_minor": 2
}
