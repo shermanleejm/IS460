{
 "cells": [
  {
   "cell_type": "code",
   "execution_count": 16,
   "source": [
    "import pandas as pd\n",
    "from sklearn.model_selection import train_test_split\n",
    "import re\n",
    "from keras.preprocessing.text import Tokenizer\n",
    "from keras.preprocessing.sequence import pad_sequences\n",
    "import matplotlib.pyplot as plt"
   ],
   "outputs": [],
   "metadata": {}
  },
  {
   "cell_type": "markdown",
   "source": [
    "# helper functions"
   ],
   "metadata": {}
  },
  {
   "cell_type": "code",
   "execution_count": 2,
   "source": [
    "def clean_text(text):\n",
    "    text = text.lower()\n",
    "    ## remove \\n \\t and non-alphanumeric\n",
    "    text = re.sub(\"(\\\\t|\\\\n)\", \" \", text)\n",
    "    text = re.sub(\"[^a-zA-Z0-9']\", \" \", text)\n",
    "    text = text.strip()\n",
    "    ## leave 1 space between each token\n",
    "    text = \" \".join([x for x in text.split(\" \") if len(x.strip()) > 0])\n",
    "    return text.strip()\n",
    "\n",
    "# print(clean_text('\"\"\"\"sherman...K...k,...don\\'t\"'))\n",
    "\n",
    "toxic_labels = [\"toxic\", \"severe_toxic\", \"obscene\", \"threat\", \"insult\", \"identity_hate\"]\n"
   ],
   "outputs": [],
   "metadata": {}
  },
  {
   "cell_type": "code",
   "execution_count": 3,
   "source": [
    "train = pd.read_csv(\"train.csv\")\n",
    "evaluation = pd.read_csv(\"test.csv\")\n",
    "evaluation_labels = pd.read_csv(\"test_labels.csv\")"
   ],
   "outputs": [],
   "metadata": {}
  },
  {
   "cell_type": "code",
   "execution_count": 4,
   "source": [
    "## sum of each category\n",
    "print(train[toxic_labels].sum())\n"
   ],
   "outputs": [
    {
     "output_type": "stream",
     "name": "stdout",
     "text": [
      "toxic            15294\n",
      "severe_toxic      1595\n",
      "obscene           8449\n",
      "threat             478\n",
      "insult            7877\n",
      "identity_hate     1405\n",
      "dtype: int64\n"
     ]
    }
   ],
   "metadata": {}
  },
  {
   "cell_type": "code",
   "execution_count": 5,
   "source": [
    "## non-toxic\n",
    "count = 0\n",
    "\n",
    "def is_toxic(row):\n",
    "    for label in toxic_labels:\n",
    "        if row[label] == 1:\n",
    "            return True\n",
    "    return False\n",
    "\n",
    "for i, row in train.iterrows():\n",
    "    if not is_toxic(row):\n",
    "        count += 1\n",
    "\n",
    "print(count)"
   ],
   "outputs": [
    {
     "output_type": "stream",
     "name": "stdout",
     "text": [
      "143346\n"
     ]
    }
   ],
   "metadata": {}
  },
  {
   "cell_type": "code",
   "execution_count": 6,
   "source": [
    "## create train test split\n",
    "X = train[\"comment_text\"].tolist()\n",
    "y = train[toxic_labels].values\n",
    "X_train, X_test, y_train, y_test = train_test_split(X, y, test_size=0.20, random_state=42)"
   ],
   "outputs": [],
   "metadata": {}
  },
  {
   "cell_type": "markdown",
   "source": [
    "# basic naive bayes theorem"
   ],
   "metadata": {}
  },
  {
   "cell_type": "code",
   "execution_count": 7,
   "source": [
    "from sklearn.naive_bayes import MultinomialNB\n",
    "from sklearn.pipeline import Pipeline\n",
    "from sklearn.feature_extraction.text import TfidfTransformer\n",
    "from sklearn.feature_extraction.text import CountVectorizer\n",
    "from sklearn.metrics import accuracy_score\n",
    "\n",
    "nb = Pipeline(\n",
    "    [\n",
    "        (\"vect\", CountVectorizer()),\n",
    "        (\"tfidf\", TfidfTransformer()),\n",
    "        (\"clf\", MultinomialNB()),\n",
    "    ]\n",
    ")\n",
    "\n",
    "## need to make [0, 0, 0, 1, 0, 1] --> 000101 for the model to understand\n",
    "y_train_NB = []\n",
    "for row in y_train:\n",
    "    y_train_NB.append(\"\".join([str(_) for _ in row]))\n",
    "\n",
    "## same for test\n",
    "y_test_NB = []\n",
    "for row in y_test:\n",
    "    y_test_NB.append(\"\".join([str(_) for _ in row]))\n",
    "\n",
    "nb.fit(X_train, y_train_NB)\n",
    "\n",
    "y_pred_NB = nb.predict(X_test)\n",
    "\n",
    "print(\"accuracy %s\" % accuracy_score(y_pred_NB, y_test_NB))\n"
   ],
   "outputs": [
    {
     "output_type": "stream",
     "name": "stdout",
     "text": [
      "accuracy 0.8990443365188783\n"
     ]
    }
   ],
   "metadata": {}
  },
  {
   "cell_type": "code",
   "execution_count": 8,
   "source": [
    "## create tokeniser\n",
    "tokenizer = Tokenizer(num_words=10000)\n",
    "tokenizer.fit_on_texts(X_train)\n",
    "\n",
    "## Convert sentences to vectors\n",
    "X_train_vectors = tokenizer.texts_to_sequences(X_train)\n",
    "X_test_vectors = tokenizer.texts_to_sequences(X_test)\n",
    "\n",
    "max_length = 0\n",
    "for row in X_train_vectors + X_test_vectors:\n",
    "    max_length = max(max_length, len(row))\n",
    "\n",
    "## added extra 10 to max_length just in case future vecotrs are longer\n",
    "max_length += 10\n",
    "\n",
    "## add extra 0 to make sure all vectors are same length\n",
    "X_train_vectors = pad_sequences(X_train_vectors, padding=\"post\", maxlen=max_length)\n",
    "X_test_vectors = pad_sequences(X_test_vectors, padding=\"post\", maxlen=max_length)\n",
    "\n",
    "vocab_length = len(tokenizer.word_index) + 1\n",
    "\n",
    "print(f\"The length of vocab is {vocab_length}\")\n"
   ],
   "outputs": [
    {
     "output_type": "stream",
     "name": "stdout",
     "text": [
      "The length of vocab is 183198\n"
     ]
    }
   ],
   "metadata": {}
  },
  {
   "cell_type": "code",
   "execution_count": 9,
   "source": [
    "## using the GloVe file to convert words to int representation for faster training\n",
    "## alternative is word2vec but word2vec uses local statistics but GloVe uses global statistics\n",
    "## https://nlp.stanford.edu/data/glove.6B.zip\n",
    "\n",
    "from numpy import asarray\n",
    "from numpy import zeros\n",
    "\n",
    "embeddings_dictionary = dict()\n",
    "\n",
    "with open('glove/glove.6B.100d.txt', encoding=\"utf8\") as glove_file:\n",
    "    for line in glove_file:\n",
    "        records = line.split()\n",
    "        word = records[0]\n",
    "        vector_dimensions = asarray(records[1:], dtype='float32')\n",
    "        embeddings_dictionary[word] = vector_dimensions\n",
    "\n",
    "## 100 is cuz we using the 100d version of glove\n",
    "embedding_matrix = zeros((vocab_length, 100))\n",
    "for word, index in tokenizer.word_index.items():\n",
    "    embedding_vector = embeddings_dictionary.get(word)\n",
    "    if embedding_vector is not None:\n",
    "        embedding_matrix[index] = embedding_vector"
   ],
   "outputs": [],
   "metadata": {}
  },
  {
   "cell_type": "markdown",
   "source": [
    "# First model\n",
    "## Layers\n",
    "1. Input layer\n",
    "2. Embedding layer\n",
    "3. LSTM layer with 128 neurons \n",
    "4. Output layer with 6 neurons (for the 6 labels)"
   ],
   "metadata": {}
  },
  {
   "cell_type": "code",
   "execution_count": 10,
   "source": [
    "from keras.layers import Input\n",
    "from keras.models import Model\n",
    "from keras.layers.embeddings import Embedding\n",
    "from keras.layers import Flatten, LSTM\n",
    "from keras.layers.core import Activation, Dropout, Dense"
   ],
   "outputs": [],
   "metadata": {}
  },
  {
   "cell_type": "code",
   "execution_count": 24,
   "source": [
    "inputs = Input(shape=(max_length,))\n",
    "embedding_layer = Embedding(\n",
    "    vocab_length, 100, weights=[embedding_matrix], trainable=False\n",
    ")(inputs)\n",
    "batch_size = 128\n",
    "lstm_layer = LSTM(batch_size)(embedding_layer)\n",
    "dense_layer = Dense(6, activation=\"sigmoid\")(lstm_layer)\n",
    "model = Model(inputs=inputs, outputs=dense_layer)\n",
    "\n",
    "model.compile(loss=\"binary_crossentropy\", optimizer=\"adam\", metrics=[\"acc\"])\n"
   ],
   "outputs": [],
   "metadata": {}
  },
  {
   "cell_type": "code",
   "execution_count": 25,
   "source": [
    "print(model.summary())"
   ],
   "outputs": [
    {
     "output_type": "stream",
     "name": "stdout",
     "text": [
      "Model: \"model_3\"\n",
      "_________________________________________________________________\n",
      "Layer (type)                 Output Shape              Param #   \n",
      "=================================================================\n",
      "input_4 (InputLayer)         [(None, 1409)]            0         \n",
      "_________________________________________________________________\n",
      "embedding_3 (Embedding)      (None, 1409, 100)         18319800  \n",
      "_________________________________________________________________\n",
      "lstm_3 (LSTM)                (None, 128)               117248    \n",
      "_________________________________________________________________\n",
      "dense_3 (Dense)              (None, 6)                 774       \n",
      "=================================================================\n",
      "Total params: 18,437,822\n",
      "Trainable params: 118,022\n",
      "Non-trainable params: 18,319,800\n",
      "_________________________________________________________________\n",
      "None\n"
     ]
    }
   ],
   "metadata": {}
  },
  {
   "cell_type": "code",
   "execution_count": 26,
   "source": [
    "magic = model.fit(\n",
    "    X_train_vectors, y_train, batch_size=128, epochs=5, verbose=1, validation_split=0.2\n",
    ")"
   ],
   "outputs": [
    {
     "output_type": "stream",
     "name": "stdout",
     "text": [
      "Epoch 1/5\n",
      "798/798 [==============================] - 1161s 1s/step - loss: 0.1848 - acc: 0.8958 - val_loss: 0.1426 - val_acc: 0.9943\n",
      "Epoch 2/5\n",
      "798/798 [==============================] - 1462s 2s/step - loss: 0.1409 - acc: 0.9945 - val_loss: 0.1431 - val_acc: 0.9943\n",
      "Epoch 3/5\n",
      "798/798 [==============================] - 1439s 2s/step - loss: 0.1410 - acc: 0.9943 - val_loss: 0.1427 - val_acc: 0.9943\n",
      "Epoch 4/5\n",
      "798/798 [==============================] - 1247s 2s/step - loss: 0.1406 - acc: 0.9939 - val_loss: 0.1424 - val_acc: 0.9943\n",
      "Epoch 5/5\n",
      "798/798 [==============================] - 1086s 1s/step - loss: 0.1438 - acc: 0.9943 - val_loss: 0.1432 - val_acc: 0.9943\n"
     ]
    }
   ],
   "metadata": {}
  },
  {
   "cell_type": "markdown",
   "source": [],
   "metadata": {}
  },
  {
   "cell_type": "code",
   "execution_count": 15,
   "source": [
    "score = model.evaluate(X_test_vectors, y_test, verbose=1)\n",
    "\n",
    "print(f\"Test Score: {score[0]}\")\n",
    "print(f\"Test Accuracy: {score[1]}\")"
   ],
   "outputs": [
    {
     "output_type": "stream",
     "name": "stdout",
     "text": [
      "998/998 [==============================] - 213s 213ms/step - loss: 0.1423 - acc: 0.9941\n",
      "Test Score: 0.14234599471092224\n",
      "Test Accuracy: 0.9941093325614929\n"
     ]
    }
   ],
   "metadata": {}
  },
  {
   "cell_type": "code",
   "execution_count": 18,
   "source": [
    "## check for overfitting\n",
    "plt.plot(magic.history['acc'])\n",
    "plt.plot(magic.history['val_acc'])\n",
    "\n",
    "plt.title('model accuracy')\n",
    "plt.ylabel('accuracy')\n",
    "plt.xlabel('epoch')\n",
    "plt.legend(['train','test'], loc='upper left')\n",
    "plt.show()\n",
    "\n",
    "plt.plot(magic.history['loss'])\n",
    "plt.plot(magic.history['val_loss'])\n",
    "\n",
    "plt.title('model loss')\n",
    "plt.ylabel('loss')\n",
    "plt.xlabel('epoch')\n",
    "plt.legend(['train','test'], loc='upper left')\n",
    "plt.show()"
   ],
   "outputs": [
    {
     "output_type": "display_data",
     "data": {
      "image/png": "[encoded data removed]",
      "text/plain": [
       "<Figure size 432x288 with 1 Axes>"
      ]
     },
     "metadata": {
      "needs_background": "light"
     }
    },
    {
     "output_type": "display_data",
     "data": {
      "image/png": "[encoded data removed]",
      "text/plain": [
       "<Figure size 432x288 with 1 Axes>"
      ]
     },
     "metadata": {
      "needs_background": "light"
     }
    }
   ],
   "metadata": {}
  },
  {
   "cell_type": "code",
   "execution_count": null,
   "source": [],
   "outputs": [],
   "metadata": {}
  }
 ],
 "metadata": {
  "orig_nbformat": 4,
  "language_info": {
   "name": "python",
   "version": "3.9.7",
   "mimetype": "text/x-python",
   "codemirror_mode": {
    "name": "ipython",
    "version": 3
   },
   "pygments_lexer": "ipython3",
   "nbconvert_exporter": "python",
   "file_extension": ".py"
  },
  "kernelspec": {
   "name": "python3",
   "display_name": "Python 3.9.7 64-bit"
  },
  "interpreter": {
   "hash": "aee8b7b246df8f9039afb4144a1f6fd8d2ca17a180786b69acc140d282b71a49"
  }
 },
 "nbformat": 4,
 "nbformat_minor": 2
}