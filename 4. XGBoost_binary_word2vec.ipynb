{
 "cells": [
  {
   "cell_type": "code",
   "execution_count": 1,
   "metadata": {},
   "outputs": [],
   "source": [
    "from sklearn.pipeline import Pipeline\n",
    "from sklearn.ensemble import ExtraTreesClassifier\n",
    "import numpy as np\n",
    "import pandas as pd\n",
    "from collections import defaultdict\n",
    "import re\n",
    "from sklearn.model_selection import train_test_split\n",
    "import xgboost as xgb\n",
    "from sklearn.metrics import (\n",
    "    roc_auc_score,\n",
    "    mean_squared_error,\n",
    "    accuracy_score,\n",
    "    mean_absolute_error,\n",
    "    recall_score,\n",
    "    precision_score,\n",
    "    f1_score,\n",
    ")"
   ]
  },
  {
   "cell_type": "code",
   "execution_count": 2,
   "metadata": {},
   "outputs": [],
   "source": [
    "with open(\"glove/glove.6B.100d.txt\", \"r\") as f:\n",
    "    w2v = {}\n",
    "    for line in f:\n",
    "        split_line = line.split()\n",
    "        word = split_line[0]\n",
    "        embedding = np.array(split_line[1:], dtype=np.float64)\n",
    "        w2v[word] = list(embedding)\n"
   ]
  },
  {
   "cell_type": "code",
   "execution_count": 3,
   "metadata": {},
   "outputs": [],
   "source": [
    "def clean_text(text):\n",
    "    text = text.lower()\n",
    "    ## remove \\n \\t and non-alphanumeric\n",
    "    text = re.sub(\"(\\\\t|\\\\n)\", \" \", text)\n",
    "    text = re.sub(\"[^a-zA-Z']\", \" \", text)\n",
    "    text = text.strip()\n",
    "    ## leave 1 space between each token\n",
    "    text = \" \".join([x for x in text.split(\" \") if len(x.strip()) > 0])\n",
    "    return text.strip()\n",
    "\n",
    "\n",
    "def cosine(u, v):\n",
    "    return np.dot(u, v) / (np.linalg.norm(u) * np.linalg.norm(v))\n",
    "\n",
    "\n",
    "toxic_labels = [\"toxic\", \"severe_toxic\", \"obscene\", \"threat\", \"insult\", \"identity_hate\"]\n"
   ]
  },
  {
   "cell_type": "code",
   "execution_count": 4,
   "metadata": {},
   "outputs": [],
   "source": [
    "raw = pd.read_csv(\"train_evenly_distributed.csv\")\n",
    "raw[\"comment_text\"] = raw[\"comment_text\"].apply(lambda x: clean_text(x))\n",
    "raw[\"BINARY\"] = raw[toxic_labels].apply(\n",
    "    lambda x: int(\"\".join(x.values.astype(str)), 2), axis=1\n",
    ")\n",
    "for k, v in dict(raw.BINARY.value_counts()).items():\n",
    "    if v < 10:\n",
    "        raw = raw[raw.BINARY != k]\n",
    "_train, _test = train_test_split(\n",
    "    raw,\n",
    "    test_size=0.2,\n",
    "    stratify=raw[\"BINARY\"],\n",
    ")"
   ]
  },
  {
   "cell_type": "code",
   "execution_count": 5,
   "metadata": {},
   "outputs": [],
   "source": [
    "X_train = []\n",
    "for x in _train[\"comment_text\"]:\n",
    "    tmp = [0 for i in range(100)]\n",
    "    for word in x.split(\" \"):\n",
    "        if w2v.get(word, None) != None:\n",
    "            tmp = np.add(w2v.get(word), tmp)\n",
    "    X_train.append(tmp)\n",
    "\n",
    "X_test = []\n",
    "for x in _test[\"comment_text\"]:\n",
    "    tmp = [0 for i in range(100)]\n",
    "    for word in x.split(\" \"):\n",
    "        if w2v.get(word, None) != None:\n",
    "            tmp = np.add(w2v.get(word), tmp)\n",
    "    X_test.append(tmp)"
   ]
  },
  {
   "cell_type": "code",
   "execution_count": 6,
   "metadata": {},
   "outputs": [],
   "source": [
    "label_encoder = {k:i for i, k in enumerate(dict(_train.BINARY.value_counts()).keys())}\n",
    "label_encoder_reversed = {i:k for i, k in enumerate(dict(_train.BINARY.value_counts()).keys())}\n",
    "y_test = [label_encoder[x] for x in _test[\"BINARY\"]]\n",
    "y_train = [label_encoder[x] for x in _train[\"BINARY\"]]"
   ]
  },
  {
   "cell_type": "code",
   "execution_count": 7,
   "metadata": {},
   "outputs": [],
   "source": [
    "dtrain = xgb.DMatrix(pd.DataFrame.from_records(X_train), label=y_train)\n",
    "dtest = xgb.DMatrix(pd.DataFrame.from_records(X_test))"
   ]
  },
  {
   "cell_type": "code",
   "execution_count": 8,
   "metadata": {},
   "outputs": [
    {
     "name": "stdout",
     "output_type": "stream",
     "text": [
      "Binary format with word2vec (Glove)\n",
      "precision: 0.001352265043948614\n",
      "recall: 0.001352265043948614\n",
      "f1 score: 0.001352265043948614\n",
      "accuracy: 0.001352265043948614\n",
      "\n"
     ]
    }
   ],
   "source": [
    "param = {\n",
    "    \"max_depth\": 10,\n",
    "    \"eta\": 0.3,\n",
    "    \"objective\": \"multi:softprob\",\n",
    "    \"num_class\": len(label_encoder),\n",
    "    \"eval_metric\": \"mlogloss\",\n",
    "}\n",
    "num_round = 5\n",
    "bst = xgb.train(param, dtrain, num_round)\n",
    "y_pred_arr = bst.predict(dtest)\n",
    "y_pred = []\n",
    "for row in y_pred_arr:\n",
    "    val, idx = min((val, idx) for (idx, val) in enumerate(row))\n",
    "    y_pred.append(idx)\n",
    "\n",
    "print(\"Binary format with word2vec (Glove)\")\n",
    "print(\"precision: %s\" % precision_score(y_pred, y_test, average=\"micro\"))\n",
    "print(\"recall: %s\" % recall_score(y_pred, y_test, average=\"micro\"))\n",
    "print(\"f1 score: %s\" % f1_score(y_pred, y_test, average=\"micro\"))\n",
    "print(\"accuracy: %s\" % accuracy_score(y_pred, y_test))\n",
    "print()"
   ]
  },
  {
   "cell_type": "code",
   "execution_count": null,
   "metadata": {},
   "outputs": [
    {
     "name": "stdout",
     "output_type": "stream",
     "text": [
      "0.000901510029299076\n",
      "[1, 8, 1, 0, 6, 1, 1, 1, 0, 2]\n",
      "[24, 28, 24, 28, 24, 24, 28, 24, 24, 24]\n"
     ]
    }
   ],
   "source": [
    "p_score = precision_score(y_true=y_test, y_pred=y_pred, average='micro')\n",
    "print(p_score)\n",
    "print(y_test[-10:])\n",
    "print(y_pred[-10:])"
   ]
  },
  {
   "cell_type": "code",
   "execution_count": null,
   "metadata": {},
   "outputs": [],
   "source": []
  }
 ],
 "metadata": {
  "interpreter": {
   "hash": "aee8b7b246df8f9039afb4144a1f6fd8d2ca17a180786b69acc140d282b71a49"
  },
  "kernelspec": {
   "display_name": "Python 3.9.7 64-bit",
   "name": "python3"
  },
  "language_info": {
   "codemirror_mode": {
    "name": "ipython",
    "version": 3
   },
   "file_extension": ".py",
   "mimetype": "text/x-python",
   "name": "python",
   "nbconvert_exporter": "python",
   "pygments_lexer": "ipython3",
   "version": "3.9.8"
  },
  "orig_nbformat": 4
 },
 "nbformat": 4,
 "nbformat_minor": 2
}
